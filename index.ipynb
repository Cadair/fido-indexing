{
 "cells": [
  {
   "cell_type": "markdown",
   "metadata": {},
   "source": [
    "# Fido UX Survey\n",
    "\n",
    "To help SunPy get a better idea of it's upcoming `Fido` data download tool please do the following exercies and then fill in the quick form at the end. "
   ]
  },
  {
   "cell_type": "markdown",
   "metadata": {},
   "source": [
    "## What is Fido?\n",
    "\n",
    "`Fido` is the new unified search interface for SunPy, it is one place where you can query all the different services SunPy supports. Currently this includes the VSO, JSOC, and all of the downloaders that were in `Lightcurve` in 0.7."
   ]
  },
  {
   "cell_type": "markdown",
   "metadata": {},
   "source": [
    "## How do I use Fido?\n",
    "\n",
    "`Fido` is used like the following example:"
   ]
  },
  {
   "cell_type": "code",
   "execution_count": null,
   "metadata": {},
   "outputs": [],
   "source": [
    "import astropy.units as u\n",
    "from sunpy.net import Fido, attrs as a"
   ]
  },
  {
   "cell_type": "code",
   "execution_count": null,
   "metadata": {},
   "outputs": [],
   "source": [
    "Fido.search(a.Time(\"2016/01/01\", \"2016/01/02\"), a.Instrument('lyra'))"
   ]
  },
  {
   "cell_type": "markdown",
   "metadata": {},
   "source": [
    "`Fido` searches use the same attributes `attrs` system as the VSO and JSOC clients, if you want to learn more about this powerful interface to search see the [documentation](http://docs.sunpy.org/en/stable/guide/acquiring_data/vso.html#constructing-a-query)."
   ]
  },
  {
   "cell_type": "markdown",
   "metadata": {},
   "source": [
    "## Example\n",
    "\n",
    "The following example is an advanced `Fido` query to give you an example of what can be achieved."
   ]
  },
  {
   "cell_type": "code",
   "execution_count": null,
   "metadata": {},
   "outputs": [],
   "source": [
    "aia_search = a.Time(\"2011-06-07T06:33:00\", \"2011-06-07T06:33:11\") & a.Instrument(\"AIA\") & a.Wavelength(17.1*u.nm)\n",
    "goes_search = a.Time(\"2011-06-07\", \"2011-06-07T23:00:00\") & a.Instrument(\"goes\")\n",
    "\n",
    "results = Fido.search(aia_search | goes_search)\n",
    "results"
   ]
  },
  {
   "cell_type": "markdown",
   "metadata": {},
   "source": [
    "# Exercises"
   ]
  },
  {
   "cell_type": "markdown",
   "metadata": {},
   "source": [
    "## One\n",
    "\n",
    "Given the above results object, download only the AIA image."
   ]
  },
  {
   "cell_type": "code",
   "execution_count": null,
   "metadata": {},
   "outputs": [],
   "source": []
  },
  {
   "cell_type": "markdown",
   "metadata": {},
   "source": [
    "## Two\n",
    "\n",
    "Please make a query for a days worth of STEREO-A EUVI 30.4 nm data, but only download every 20th file."
   ]
  },
  {
   "cell_type": "code",
   "execution_count": null,
   "metadata": {},
   "outputs": [],
   "source": []
  },
  {
   "cell_type": "code",
   "execution_count": null,
   "metadata": {
    "collapsed": true
   },
   "outputs": [],
   "source": []
  }
 ],
 "metadata": {
  "kernelspec": {
   "display_name": "Environment (sunpy-dev)",
   "language": "python",
   "name": "sunpy-dev"
  },
  "language_info": {
   "codemirror_mode": {
    "name": "ipython",
    "version": 3
   },
   "file_extension": ".py",
   "mimetype": "text/x-python",
   "name": "python",
   "nbconvert_exporter": "python",
   "pygments_lexer": "ipython3",
   "version": "3.6.1"
  }
 },
 "nbformat": 4,
 "nbformat_minor": 2
}
