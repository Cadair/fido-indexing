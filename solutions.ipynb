{
 "cells": [
  {
   "cell_type": "markdown",
   "metadata": {},
   "source": [
    "# Fido UX Survey\n",
    "\n",
    "To help SunPy get a better idea of it's upcoming `Fido` data download tool please do the following exercies and then fill in the quick form at the end. "
   ]
  },
  {
   "cell_type": "markdown",
   "metadata": {},
   "source": [
    "## What is Fido?\n",
    "\n",
    "`Fido` is the new unified search interface for SunPy, it is one place where you can query all the different services SunPy supports. Currently this includes the VSO, JSOC, and all of the downloaders that were in `Lightcurve` in 0.7."
   ]
  },
  {
   "cell_type": "markdown",
   "metadata": {},
   "source": [
    "## How do I use Fido?\n",
    "\n",
    "`Fido` is used like the following example:"
   ]
  },
  {
   "cell_type": "code",
   "execution_count": 1,
   "metadata": {},
   "outputs": [],
   "source": [
    "import astropy.units as u\n",
    "from sunpy.net import Fido, attrs as a"
   ]
  },
  {
   "cell_type": "code",
   "execution_count": 2,
   "metadata": {},
   "outputs": [
    {
     "data": {
      "text/html": [
       "Results from the LYRAClient:\n",
       "&lt;Table length=2&gt;\n",
       "<table id=\"table139855372705128\" class=\"table-striped table-bordered table-condensed\">\n",
       "<thead><tr><th>Start Time</th><th>End Time</th><th>Source</th><th>Instrument</th><th>Wavelength</th></tr></thead>\n",
       "<thead><tr><th>str19</th><th>str19</th><th>str6</th><th>str4</th><th>str3</th></tr></thead>\n",
       "<tr><td>2016-01-01 00:00:00</td><td>2016-01-02 00:00:00</td><td>Proba2</td><td>lyra</td><td>nan</td></tr>\n",
       "<tr><td>2016-01-01 00:00:00</td><td>2016-01-02 00:00:00</td><td>Proba2</td><td>lyra</td><td>nan</td></tr>\n",
       "</table>\n"
      ],
      "text/plain": [
       "<sunpy.net.fido_factory.UnifiedResponse object at 0x7f32c4617ef0>\n",
       "Results from the LYRAClient:\n",
       "<class 'sunpy.net.dataretriever.client.QueryResponse'><Table length=2>\n",
       "     Start Time           End Time      Source Instrument Wavelength\n",
       "       str19               str19         str6     str4       str3   \n",
       "------------------- ------------------- ------ ---------- ----------\n",
       "2016-01-01 00:00:00 2016-01-02 00:00:00 Proba2       lyra        nan\n",
       "2016-01-01 00:00:00 2016-01-02 00:00:00 Proba2       lyra        nan"
      ]
     },
     "execution_count": 2,
     "metadata": {},
     "output_type": "execute_result"
    }
   ],
   "source": [
    "Fido.search(a.Time(\"2016/01/01\", \"2016/01/02\"), a.Instrument('lyra'))"
   ]
  },
  {
   "cell_type": "markdown",
   "metadata": {},
   "source": [
    "`Fido` searches use the same attributes `attrs` system as the VSO and JSOC clients, if you want to learn more about this powerful interface to search see the [documentation](http://docs.sunpy.org/en/stable/guide/acquiring_data/vso.html#constructing-a-query)."
   ]
  },
  {
   "cell_type": "markdown",
   "metadata": {},
   "source": [
    "## Example\n",
    "\n",
    "The following example is an advanced `Fido` query to give you an example of what can be achieved."
   ]
  },
  {
   "cell_type": "code",
   "execution_count": 3,
   "metadata": {},
   "outputs": [
    {
     "data": {
      "text/html": [
       "Results from the VSOClient:\n",
       "&lt;QTable length=1&gt;\n",
       "<table id=\"table139854989647712\" class=\"table-striped table-bordered table-condensed\">\n",
       "<thead><tr><th>Start Time [1]</th><th>End Time [1]</th><th>Source</th><th>Instrument</th><th>Type</th><th>Wavelength [2]</th></tr></thead>\n",
       "<thead><tr><th></th><th></th><th></th><th></th><th></th><th>Angstrom</th></tr></thead>\n",
       "<thead><tr><th>str19</th><th>str19</th><th>str3</th><th>str3</th><th>str8</th><th>float64</th></tr></thead>\n",
       "<tr><td>2011-06-07 06:33:02</td><td>2011-06-07 06:33:03</td><td>SDO</td><td>AIA</td><td>FULLDISK</td><td>171.0 .. 171.0</td></tr>\n",
       "</table>\n",
       "Results from the GOESClient:\n",
       "&lt;Table length=1&gt;\n",
       "<table id=\"table139854989572696\" class=\"table-striped table-bordered table-condensed\">\n",
       "<thead><tr><th>Start Time</th><th>End Time</th><th>Source</th><th>Instrument</th><th>Wavelength</th></tr></thead>\n",
       "<thead><tr><th>str19</th><th>str19</th><th>str4</th><th>str4</th><th>str3</th></tr></thead>\n",
       "<tr><td>2011-06-07 00:00:00</td><td>2011-06-07 23:00:00</td><td>nasa</td><td>goes</td><td>nan</td></tr>\n",
       "</table>\n"
      ],
      "text/plain": [
       "<sunpy.net.fido_factory.UnifiedResponse object at 0x7f3286f939e8>\n",
       "Results from the VSOClient:\n",
       "<QTable length=1>\n",
       "   Start Time [1]       End Time [1]    Source ...   Type   Wavelength [2]\n",
       "                                               ...             Angstrom   \n",
       "       str19               str19         str3  ...   str8      float64    \n",
       "------------------- ------------------- ------ ... -------- --------------\n",
       "2011-06-07 06:33:02 2011-06-07 06:33:03    SDO ... FULLDISK 171.0 .. 171.0\n",
       "Results from the GOESClient:\n",
       "<class 'sunpy.net.dataretriever.client.QueryResponse'><Table length=1>\n",
       "     Start Time           End Time      Source Instrument Wavelength\n",
       "       str19               str19         str4     str4       str3   \n",
       "------------------- ------------------- ------ ---------- ----------\n",
       "2011-06-07 00:00:00 2011-06-07 23:00:00   nasa       goes        nan"
      ]
     },
     "execution_count": 3,
     "metadata": {},
     "output_type": "execute_result"
    }
   ],
   "source": [
    "aia_search = a.Time(\"2011-06-07T06:33:00\", \"2011-06-07T06:33:11\") & a.Instrument(\"AIA\") & a.Wavelength(17.1*u.nm)\n",
    "goes_search = a.Time(\"2011-06-07\", \"2011-06-07T23:00:00\") & a.Instrument(\"goes\")\n",
    "\n",
    "results = Fido.search(aia_search | goes_search)\n",
    "results"
   ]
  },
  {
   "cell_type": "markdown",
   "metadata": {},
   "source": [
    "# Exercises"
   ]
  },
  {
   "cell_type": "markdown",
   "metadata": {},
   "source": [
    "## One\n",
    "\n",
    "Given the above results object, download only the AIA image."
   ]
  },
  {
   "cell_type": "code",
   "execution_count": 4,
   "metadata": {},
   "outputs": [
    {
     "name": "stdout",
     "output_type": "stream",
     "text": [
      "[                                        ======================\n",
      "="
     ]
    },
    {
     "data": {
      "text/plain": [
       "['/home/stuart/sunpy/data/aia_lev1_171a_2011_06_07t06_33_02_77z_image_lev1.fits']"
      ]
     },
     "execution_count": 4,
     "metadata": {},
     "output_type": "execute_result"
    },
    {
     "name": "stdout",
     "output_type": "stream",
     "text": [
      "================="
     ]
    }
   ],
   "source": [
    "Fido.fetch(results[0])"
   ]
  },
  {
   "cell_type": "markdown",
   "metadata": {},
   "source": [
    "## Two\n",
    "\n",
    "Please make a query for a days worth of STEREO-A EUVI 30.4 nm data, but only download every 20th file."
   ]
  },
  {
   "cell_type": "code",
   "execution_count": 6,
   "metadata": {},
   "outputs": [
    {
     "data": {
      "text/html": [
       "Results from the VSOClient:\n",
       "&lt;QTable length=144&gt;\n",
       "<table id=\"table139854969157672\" class=\"table-striped table-bordered table-condensed\">\n",
       "<thead><tr><th>Start Time [1]</th><th>End Time [1]</th><th>Source</th><th>Instrument</th><th>Type</th><th>Wavelength [2]</th></tr></thead>\n",
       "<thead><tr><th></th><th></th><th></th><th></th><th></th><th>Angstrom</th></tr></thead>\n",
       "<thead><tr><th>str19</th><th>str19</th><th>str8</th><th>str6</th><th>str8</th><th>float64</th></tr></thead>\n",
       "<tr><td>2011-06-07 00:06:15</td><td>2011-06-07 00:06:19</td><td>STEREO_A</td><td>SECCHI</td><td>FULLDISK</td><td>304.0 .. 304.0</td></tr>\n",
       "<tr><td>2011-06-07 00:16:15</td><td>2011-06-07 00:16:19</td><td>STEREO_A</td><td>SECCHI</td><td>FULLDISK</td><td>304.0 .. 304.0</td></tr>\n",
       "<tr><td>2011-06-07 00:26:15</td><td>2011-06-07 00:26:19</td><td>STEREO_A</td><td>SECCHI</td><td>FULLDISK</td><td>304.0 .. 304.0</td></tr>\n",
       "<tr><td>2011-06-07 00:36:15</td><td>2011-06-07 00:36:19</td><td>STEREO_A</td><td>SECCHI</td><td>FULLDISK</td><td>304.0 .. 304.0</td></tr>\n",
       "<tr><td>2011-06-07 00:46:15</td><td>2011-06-07 00:46:19</td><td>STEREO_A</td><td>SECCHI</td><td>FULLDISK</td><td>304.0 .. 304.0</td></tr>\n",
       "<tr><td>2011-06-07 00:56:15</td><td>2011-06-07 00:56:19</td><td>STEREO_A</td><td>SECCHI</td><td>FULLDISK</td><td>304.0 .. 304.0</td></tr>\n",
       "<tr><td>2011-06-07 01:06:15</td><td>2011-06-07 01:06:19</td><td>STEREO_A</td><td>SECCHI</td><td>FULLDISK</td><td>304.0 .. 304.0</td></tr>\n",
       "<tr><td>2011-06-07 01:16:15</td><td>2011-06-07 01:16:19</td><td>STEREO_A</td><td>SECCHI</td><td>FULLDISK</td><td>304.0 .. 304.0</td></tr>\n",
       "<tr><td>2011-06-07 01:26:15</td><td>2011-06-07 01:26:19</td><td>STEREO_A</td><td>SECCHI</td><td>FULLDISK</td><td>304.0 .. 304.0</td></tr>\n",
       "<tr><td>...</td><td>...</td><td>...</td><td>...</td><td>...</td><td>...</td></tr>\n",
       "<tr><td>2011-06-07 22:26:15</td><td>2011-06-07 22:26:19</td><td>STEREO_A</td><td>SECCHI</td><td>FULLDISK</td><td>304.0 .. 304.0</td></tr>\n",
       "<tr><td>2011-06-07 22:36:15</td><td>2011-06-07 22:36:19</td><td>STEREO_A</td><td>SECCHI</td><td>FULLDISK</td><td>304.0 .. 304.0</td></tr>\n",
       "<tr><td>2011-06-07 22:46:15</td><td>2011-06-07 22:46:19</td><td>STEREO_A</td><td>SECCHI</td><td>FULLDISK</td><td>304.0 .. 304.0</td></tr>\n",
       "<tr><td>2011-06-07 22:56:15</td><td>2011-06-07 22:56:19</td><td>STEREO_A</td><td>SECCHI</td><td>FULLDISK</td><td>304.0 .. 304.0</td></tr>\n",
       "<tr><td>2011-06-07 23:06:15</td><td>2011-06-07 23:06:19</td><td>STEREO_A</td><td>SECCHI</td><td>FULLDISK</td><td>304.0 .. 304.0</td></tr>\n",
       "<tr><td>2011-06-07 23:16:15</td><td>2011-06-07 23:16:19</td><td>STEREO_A</td><td>SECCHI</td><td>FULLDISK</td><td>304.0 .. 304.0</td></tr>\n",
       "<tr><td>2011-06-07 23:26:15</td><td>2011-06-07 23:26:19</td><td>STEREO_A</td><td>SECCHI</td><td>FULLDISK</td><td>304.0 .. 304.0</td></tr>\n",
       "<tr><td>2011-06-07 23:36:15</td><td>2011-06-07 23:36:19</td><td>STEREO_A</td><td>SECCHI</td><td>FULLDISK</td><td>304.0 .. 304.0</td></tr>\n",
       "<tr><td>2011-06-07 23:46:15</td><td>2011-06-07 23:46:19</td><td>STEREO_A</td><td>SECCHI</td><td>FULLDISK</td><td>304.0 .. 304.0</td></tr>\n",
       "<tr><td>2011-06-07 23:56:15</td><td>2011-06-07 23:56:19</td><td>STEREO_A</td><td>SECCHI</td><td>FULLDISK</td><td>304.0 .. 304.0</td></tr>\n",
       "</table>\n"
      ],
      "text/plain": [
       "<sunpy.net.fido_factory.UnifiedResponse object at 0x7f328601ca58>\n",
       "Results from the VSOClient:\n",
       "<QTable length=144>\n",
       "   Start Time [1]       End Time [1]     Source  ...   Type   Wavelength [2]\n",
       "                                                 ...             Angstrom   \n",
       "       str19               str19          str8   ...   str8      float64    \n",
       "------------------- ------------------- -------- ... -------- --------------\n",
       "2011-06-07 00:06:15 2011-06-07 00:06:19 STEREO_A ... FULLDISK 304.0 .. 304.0\n",
       "2011-06-07 00:16:15 2011-06-07 00:16:19 STEREO_A ... FULLDISK 304.0 .. 304.0\n",
       "2011-06-07 00:26:15 2011-06-07 00:26:19 STEREO_A ... FULLDISK 304.0 .. 304.0\n",
       "2011-06-07 00:36:15 2011-06-07 00:36:19 STEREO_A ... FULLDISK 304.0 .. 304.0\n",
       "2011-06-07 00:46:15 2011-06-07 00:46:19 STEREO_A ... FULLDISK 304.0 .. 304.0\n",
       "2011-06-07 00:56:15 2011-06-07 00:56:19 STEREO_A ... FULLDISK 304.0 .. 304.0\n",
       "2011-06-07 01:06:15 2011-06-07 01:06:19 STEREO_A ... FULLDISK 304.0 .. 304.0\n",
       "2011-06-07 01:16:15 2011-06-07 01:16:19 STEREO_A ... FULLDISK 304.0 .. 304.0\n",
       "2011-06-07 01:26:15 2011-06-07 01:26:19 STEREO_A ... FULLDISK 304.0 .. 304.0\n",
       "                ...                 ...      ... ...      ...            ...\n",
       "2011-06-07 22:26:15 2011-06-07 22:26:19 STEREO_A ... FULLDISK 304.0 .. 304.0\n",
       "2011-06-07 22:36:15 2011-06-07 22:36:19 STEREO_A ... FULLDISK 304.0 .. 304.0\n",
       "2011-06-07 22:46:15 2011-06-07 22:46:19 STEREO_A ... FULLDISK 304.0 .. 304.0\n",
       "2011-06-07 22:56:15 2011-06-07 22:56:19 STEREO_A ... FULLDISK 304.0 .. 304.0\n",
       "2011-06-07 23:06:15 2011-06-07 23:06:19 STEREO_A ... FULLDISK 304.0 .. 304.0\n",
       "2011-06-07 23:16:15 2011-06-07 23:16:19 STEREO_A ... FULLDISK 304.0 .. 304.0\n",
       "2011-06-07 23:26:15 2011-06-07 23:26:19 STEREO_A ... FULLDISK 304.0 .. 304.0\n",
       "2011-06-07 23:36:15 2011-06-07 23:36:19 STEREO_A ... FULLDISK 304.0 .. 304.0\n",
       "2011-06-07 23:46:15 2011-06-07 23:46:19 STEREO_A ... FULLDISK 304.0 .. 304.0\n",
       "2011-06-07 23:56:15 2011-06-07 23:56:19 STEREO_A ... FULLDISK 304.0 .. 304.0"
      ]
     },
     "execution_count": 6,
     "metadata": {},
     "output_type": "execute_result"
    }
   ],
   "source": [
    "results = Fido.search(a.Time(\"2011-06-07\", \"2011-06-08\"), a.vso.Source(\"STEREO-A\"),\n",
    "                      a.Instrument(\"EUVI\"), a.Wavelength(30.4*u.nm))\n",
    "results"
   ]
  },
  {
   "cell_type": "code",
   "execution_count": 7,
   "metadata": {},
   "outputs": [
    {
     "name": "stdout",
     "output_type": "stream",
     "text": [
      "[                                        ========================================\n"
     ]
    },
    {
     "data": {
      "text/plain": [
       "['/home/stuart/sunpy/data/20110607_000615_n4eua.fts',\n",
       " '/home/stuart/sunpy/data/20110607_032615_n4eua.fts',\n",
       " '/home/stuart/sunpy/data/20110607_064615_n4eua.fts',\n",
       " '/home/stuart/sunpy/data/20110607_100615_n4eua.fts',\n",
       " '/home/stuart/sunpy/data/20110607_132615_n4eua.fts',\n",
       " '/home/stuart/sunpy/data/20110607_164615_n4eua.fts',\n",
       " '/home/stuart/sunpy/data/20110607_200615_n4eua.fts',\n",
       " '/home/stuart/sunpy/data/20110607_232615_n4eua.fts']"
      ]
     },
     "execution_count": 7,
     "metadata": {},
     "output_type": "execute_result"
    }
   ],
   "source": [
    "Fido.fetch(results[0, ::20])"
   ]
  }
 ],
 "metadata": {
  "kernelspec": {
   "display_name": "Environment (sunpy-dev)",
   "language": "python",
   "name": "sunpy-dev"
  },
  "language_info": {
   "codemirror_mode": {
    "name": "ipython",
    "version": 3
   },
   "file_extension": ".py",
   "mimetype": "text/x-python",
   "name": "python",
   "nbconvert_exporter": "python",
   "pygments_lexer": "ipython3",
   "version": "3.6.1"
  }
 },
 "nbformat": 4,
 "nbformat_minor": 2
}
